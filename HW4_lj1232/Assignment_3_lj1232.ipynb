{
 "cells": [
  {
   "cell_type": "code",
   "execution_count": 1,
   "metadata": {},
   "outputs": [],
   "source": [
    "from __future__  import print_function, division\n",
    "\n",
    "import os\n",
    "import math"
   ]
  },
  {
   "cell_type": "markdown",
   "metadata": {},
   "source": [
    "# parameters of the population"
   ]
  },
  {
   "cell_type": "code",
   "execution_count": 2,
   "metadata": {},
   "outputs": [],
   "source": [
    "mu = µ = 36\n",
    "\n",
    "sigma = σ = 6"
   ]
  },
  {
   "cell_type": "markdown",
   "metadata": {},
   "source": [
    "# Question: \n",
    "Is the new bus route improving commute?\n",
    "\n",
    "# Set alpha level \n",
    "α = 0.05\n",
    "\n",
    "Alpha level is our criterion for deciding whether or not something is likely or unlikely. If the probability is less than α = 0.05 (less than 5% - lying above 2σ = 95%) then it is unlikely to occur.\n",
    "\n",
    "# Null and Alternative Hypotheses: \n",
    "H0 : The average commute time in minutes for the original bus route is the same or less than that of the new bus route at α = 0.05.\n",
    "\n",
    "Ha : The average commute time in minutes for the original bus route is longer than that of the new bus bus route at α = 0.05.\n",
    "\n",
    "H0 : µold - µnew <= 0\n",
    "\n",
    "Ha : µold - µnew > 0\n",
    "\n",
    "We are doing a one-tailed test."
   ]
  },
  {
   "cell_type": "markdown",
   "metadata": {},
   "source": [
    "# Download the data and read it properly"
   ]
  },
  {
   "cell_type": "code",
   "execution_count": 3,
   "metadata": {},
   "outputs": [
    {
     "name": "stdout",
     "output_type": "stream",
     "text": [
      "  % Total    % Received % Xferd  Average Speed   Time    Time     Time  Current\n",
      "                                 Dload  Upload   Total   Spent    Left  Speed\n",
      "100  1179  100  1179    0     0   7159      0 --:--:-- --:--:-- --:--:--  7145\n"
     ]
    }
   ],
   "source": [
    "!curl https://raw.githubusercontent.com/fedhere/PUI2018_fb55/master/Lab4_fb55/times.txt > times.txt\n",
    "!mv times.txt $PUIDATA"
   ]
  },
  {
   "cell_type": "code",
   "execution_count": 4,
   "metadata": {},
   "outputs": [],
   "source": [
    "import numpy as np\n",
    "data = np.genfromtxt(\"%s/times.txt\"%os.getenv(\"PUIDATA\"), delimiter=',')"
   ]
  },
  {
   "cell_type": "markdown",
   "metadata": {},
   "source": [
    "# Calculate the sample statistics"
   ]
  },
  {
   "cell_type": "code",
   "execution_count": 5,
   "metadata": {},
   "outputs": [
    {
     "name": "stdout",
     "output_type": "stream",
     "text": [
      "mean = x̅ =  34.4661616883 sample size = N =  100\n"
     ]
    }
   ],
   "source": [
    "x̅ = data.mean()\n",
    "N = len(data)\n",
    "print ('mean = x̅ = ',data.mean(),'sample size = N = ',len(data))"
   ]
  },
  {
   "cell_type": "markdown",
   "metadata": {},
   "source": [
    "# Calculate the z statistic"
   ]
  },
  {
   "cell_type": "code",
   "execution_count": 6,
   "metadata": {},
   "outputs": [
    {
     "name": "stdout",
     "output_type": "stream",
     "text": [
      "Z = 2.55639718617\n"
     ]
    }
   ],
   "source": [
    "z = (µ - x̅)/(σ/math.sqrt(N))\n",
    "print ('Z =',z)"
   ]
  },
  {
   "cell_type": "markdown",
   "metadata": {},
   "source": [
    "# Conclusion:\n",
    "\n",
    "**Z = 2.55 > 2σ means that the sample mean falls in the citical region for an α-level of 0.05 therefore it is unlikely meaning it didn't occur by chance.**\n",
    "\n",
    "**Accordingly we can rject the Null Hypothesis**"
   ]
  }
 ],
 "metadata": {
  "kernelspec": {
   "display_name": "PUI2016_Python3",
   "language": "python",
   "name": "pui2016_python3"
  },
  "language_info": {
   "codemirror_mode": {
    "name": "ipython",
    "version": 3
   },
   "file_extension": ".py",
   "mimetype": "text/x-python",
   "name": "python",
   "nbconvert_exporter": "python",
   "pygments_lexer": "ipython3",
   "version": "3.5.4"
  }
 },
 "nbformat": 4,
 "nbformat_minor": 2
}
