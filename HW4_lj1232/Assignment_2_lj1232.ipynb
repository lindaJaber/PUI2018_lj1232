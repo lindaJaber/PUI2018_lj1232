{
 "cells": [
  {
   "cell_type": "code",
   "execution_count": 1,
   "metadata": {},
   "outputs": [
    {
     "name": "stdout",
     "output_type": "stream",
     "text": [
      "Populating the interactive namespace from numpy and matplotlib\n",
      "PUIdata /nfshome/lj1232/PUIdata\n"
     ]
    }
   ],
   "source": [
    "from __future__  import print_function, division\n",
    "import os \n",
    "from zipfile import ZipFile\n",
    "import pandas as pd\n",
    "import pylab as pl\n",
    "%pylab inline\n",
    "print ('PUIdata', os.getenv('PUIDATA'))"
   ]
  },
  {
   "cell_type": "markdown",
   "metadata": {},
   "source": [
    "# Question:\n",
    "\n",
    "Do people of different age groups use CitiBike the same?\n",
    "\n",
    "# Hypotheses:\n",
    "\n",
    "For the sake of this experiment we will set two age groups and divide the data accordingly.\n",
    "\n",
    "Age_Group_1 = $G_1$ = [18  to 45 years]\n",
    "\n",
    "Age_Group_2 = $G_2$ =  [46 to 65 years]\n",
    "\n",
    "### Significance Level: \n",
    "We will conduct a two- tailed test at $\\alpha=0.05$, to see if the groups have the same proportion or if not then which group has the bigger one.\n",
    "\n",
    "### Null Hypothesis: \n",
    "The proportion of people using CitiBike and belonging to Age_Group_1 is the same as those belonging to Age_Group_2 in a given month.\n",
    "\n",
    "### Alternative Hypothesis: \n",
    "The proportion of people using CitiBike and belonging to Age_Group_1 is different from those belonging to Age_Group_2 in a given month.\n",
    "\n",
    "\n",
    "### $H_0$ : $\\frac{G_{\\mathrm{1}}}{G_{\\mathrm{total}}} = \\frac{G_{\\mathrm{2}}}{G_{\\mathrm{total}}}$\n",
    "\n",
    "### $H_a$ : $\\frac{G_{\\mathrm{1}}}{G_{\\mathrm{total}}} \\neq \\frac{G_{\\mathrm{2}}}{G_{\\mathrm{total}}}$\n",
    "\n"
   ]
  },
  {
   "cell_type": "code",
   "execution_count": 2,
   "metadata": {},
   "outputs": [
    {
     "name": "stdout",
     "output_type": "stream",
     "text": [
      "  % Total    % Received % Xferd  Average Speed   Time    Time     Time  Current\n",
      "                                 Dload  Upload   Total   Spent    Left  Speed\n",
      "100  442k  100  442k    0     0  2351k      0 --:--:-- --:--:-- --:--:-- 2356k\n"
     ]
    }
   ],
   "source": [
    "!curl https://s3.amazonaws.com/tripdata/JC-201803-citibike-tripdata.csv.zip > 201803_citibike_tripdata.csv.zip\n",
    "!mv 201803_citibike_tripdata.csv.zip $PUIDATA\n",
    "\n",
    "\n",
    "zip = ZipFile('%s/201803_citibike_tripdata.csv.zip'%os.getenv('PUIDATA'))\n",
    "zip.extractall(os.getenv('PUIDATA'))"
   ]
  },
  {
   "cell_type": "code",
   "execution_count": 3,
   "metadata": {},
   "outputs": [
    {
     "name": "stdout",
     "output_type": "stream",
     "text": [
      "201803_citibike_tripdata.csv.zip  DOB_Complaints_311.csv           times.txt\n",
      "dhsdaily.csv                      JC-201803-citibike-tripdata.csv\n"
     ]
    }
   ],
   "source": [
    "ls $PUIDATA"
   ]
  },
  {
   "cell_type": "code",
   "execution_count": 53,
   "metadata": {},
   "outputs": [],
   "source": [
    "df = pd.read_csv('%s/JC-201803-citibike-tripdata.csv'%os.getenv('PUIDATA'))"
   ]
  },
  {
   "cell_type": "code",
   "execution_count": 54,
   "metadata": {},
   "outputs": [
    {
     "data": {
      "text/html": [
       "<div>\n",
       "<table border=\"1\" class=\"dataframe\">\n",
       "  <thead>\n",
       "    <tr style=\"text-align: right;\">\n",
       "      <th></th>\n",
       "      <th>tripduration</th>\n",
       "      <th>starttime</th>\n",
       "      <th>stoptime</th>\n",
       "      <th>start station id</th>\n",
       "      <th>start station name</th>\n",
       "      <th>start station latitude</th>\n",
       "      <th>start station longitude</th>\n",
       "      <th>end station id</th>\n",
       "      <th>end station name</th>\n",
       "      <th>end station latitude</th>\n",
       "      <th>end station longitude</th>\n",
       "      <th>bikeid</th>\n",
       "      <th>usertype</th>\n",
       "      <th>birth year</th>\n",
       "      <th>gender</th>\n",
       "    </tr>\n",
       "  </thead>\n",
       "  <tbody>\n",
       "    <tr>\n",
       "      <th>0</th>\n",
       "      <td>329</td>\n",
       "      <td>2018-03-01 06:37:37.0380</td>\n",
       "      <td>2018-03-01 06:43:06.5520</td>\n",
       "      <td>3183</td>\n",
       "      <td>Exchange Place</td>\n",
       "      <td>40.716247</td>\n",
       "      <td>-74.033459</td>\n",
       "      <td>3202</td>\n",
       "      <td>Newport PATH</td>\n",
       "      <td>40.727224</td>\n",
       "      <td>-74.033759</td>\n",
       "      <td>29284</td>\n",
       "      <td>Subscriber</td>\n",
       "      <td>1981</td>\n",
       "      <td>1</td>\n",
       "    </tr>\n",
       "    <tr>\n",
       "      <th>1</th>\n",
       "      <td>118</td>\n",
       "      <td>2018-03-01 07:37:30.1210</td>\n",
       "      <td>2018-03-01 07:39:28.3910</td>\n",
       "      <td>3183</td>\n",
       "      <td>Exchange Place</td>\n",
       "      <td>40.716247</td>\n",
       "      <td>-74.033459</td>\n",
       "      <td>3184</td>\n",
       "      <td>Paulus Hook</td>\n",
       "      <td>40.714145</td>\n",
       "      <td>-74.033552</td>\n",
       "      <td>29465</td>\n",
       "      <td>Subscriber</td>\n",
       "      <td>1966</td>\n",
       "      <td>1</td>\n",
       "    </tr>\n",
       "    <tr>\n",
       "      <th>2</th>\n",
       "      <td>76</td>\n",
       "      <td>2018-03-01 08:26:17.9390</td>\n",
       "      <td>2018-03-01 08:27:34.6770</td>\n",
       "      <td>3183</td>\n",
       "      <td>Exchange Place</td>\n",
       "      <td>40.716247</td>\n",
       "      <td>-74.033459</td>\n",
       "      <td>3184</td>\n",
       "      <td>Paulus Hook</td>\n",
       "      <td>40.714145</td>\n",
       "      <td>-74.033552</td>\n",
       "      <td>29681</td>\n",
       "      <td>Subscriber</td>\n",
       "      <td>1975</td>\n",
       "      <td>1</td>\n",
       "    </tr>\n",
       "    <tr>\n",
       "      <th>3</th>\n",
       "      <td>578</td>\n",
       "      <td>2018-03-01 12:10:36.2160</td>\n",
       "      <td>2018-03-01 12:20:14.8690</td>\n",
       "      <td>3183</td>\n",
       "      <td>Exchange Place</td>\n",
       "      <td>40.716247</td>\n",
       "      <td>-74.033459</td>\n",
       "      <td>3185</td>\n",
       "      <td>City Hall</td>\n",
       "      <td>40.717733</td>\n",
       "      <td>-74.043845</td>\n",
       "      <td>31695</td>\n",
       "      <td>Subscriber</td>\n",
       "      <td>1970</td>\n",
       "      <td>1</td>\n",
       "    </tr>\n",
       "    <tr>\n",
       "      <th>4</th>\n",
       "      <td>485</td>\n",
       "      <td>2018-03-01 12:21:47.8800</td>\n",
       "      <td>2018-03-01 12:29:53.2990</td>\n",
       "      <td>3183</td>\n",
       "      <td>Exchange Place</td>\n",
       "      <td>40.716247</td>\n",
       "      <td>-74.033459</td>\n",
       "      <td>3187</td>\n",
       "      <td>Warren St</td>\n",
       "      <td>40.721124</td>\n",
       "      <td>-74.038051</td>\n",
       "      <td>31802</td>\n",
       "      <td>Subscriber</td>\n",
       "      <td>1979</td>\n",
       "      <td>1</td>\n",
       "    </tr>\n",
       "  </tbody>\n",
       "</table>\n",
       "</div>"
      ],
      "text/plain": [
       "   tripduration                 starttime                  stoptime  \\\n",
       "0           329  2018-03-01 06:37:37.0380  2018-03-01 06:43:06.5520   \n",
       "1           118  2018-03-01 07:37:30.1210  2018-03-01 07:39:28.3910   \n",
       "2            76  2018-03-01 08:26:17.9390  2018-03-01 08:27:34.6770   \n",
       "3           578  2018-03-01 12:10:36.2160  2018-03-01 12:20:14.8690   \n",
       "4           485  2018-03-01 12:21:47.8800  2018-03-01 12:29:53.2990   \n",
       "\n",
       "   start station id start station name  start station latitude  \\\n",
       "0              3183     Exchange Place               40.716247   \n",
       "1              3183     Exchange Place               40.716247   \n",
       "2              3183     Exchange Place               40.716247   \n",
       "3              3183     Exchange Place               40.716247   \n",
       "4              3183     Exchange Place               40.716247   \n",
       "\n",
       "   start station longitude  end station id end station name  \\\n",
       "0               -74.033459            3202     Newport PATH   \n",
       "1               -74.033459            3184      Paulus Hook   \n",
       "2               -74.033459            3184      Paulus Hook   \n",
       "3               -74.033459            3185        City Hall   \n",
       "4               -74.033459            3187        Warren St   \n",
       "\n",
       "   end station latitude  end station longitude  bikeid    usertype  \\\n",
       "0             40.727224             -74.033759   29284  Subscriber   \n",
       "1             40.714145             -74.033552   29465  Subscriber   \n",
       "2             40.714145             -74.033552   29681  Subscriber   \n",
       "3             40.717733             -74.043845   31695  Subscriber   \n",
       "4             40.721124             -74.038051   31802  Subscriber   \n",
       "\n",
       "   birth year  gender  \n",
       "0        1981       1  \n",
       "1        1966       1  \n",
       "2        1975       1  \n",
       "3        1970       1  \n",
       "4        1979       1  "
      ]
     },
     "execution_count": 54,
     "metadata": {},
     "output_type": "execute_result"
    }
   ],
   "source": [
    "df.head()"
   ]
  },
  {
   "cell_type": "code",
   "execution_count": 55,
   "metadata": {},
   "outputs": [
    {
     "data": {
      "text/html": [
       "<div>\n",
       "<table border=\"1\" class=\"dataframe\">\n",
       "  <thead>\n",
       "    <tr style=\"text-align: right;\">\n",
       "      <th></th>\n",
       "      <th>tripduration</th>\n",
       "      <th>starttime</th>\n",
       "      <th>stoptime</th>\n",
       "      <th>start station id</th>\n",
       "      <th>start station name</th>\n",
       "      <th>start station latitude</th>\n",
       "      <th>start station longitude</th>\n",
       "      <th>end station id</th>\n",
       "      <th>end station name</th>\n",
       "      <th>end station latitude</th>\n",
       "      <th>end station longitude</th>\n",
       "      <th>bikeid</th>\n",
       "      <th>usertype</th>\n",
       "      <th>birth year</th>\n",
       "      <th>gender</th>\n",
       "    </tr>\n",
       "  </thead>\n",
       "  <tbody>\n",
       "    <tr>\n",
       "      <th>17104</th>\n",
       "      <td>239</td>\n",
       "      <td>2018-03-30 21:24:17.9440</td>\n",
       "      <td>2018-03-30 21:28:17.7570</td>\n",
       "      <td>3640</td>\n",
       "      <td>Journal Square</td>\n",
       "      <td>40.73367</td>\n",
       "      <td>-74.0625</td>\n",
       "      <td>3194</td>\n",
       "      <td>McGinley Square</td>\n",
       "      <td>40.725340</td>\n",
       "      <td>-74.067622</td>\n",
       "      <td>29616</td>\n",
       "      <td>Subscriber</td>\n",
       "      <td>1990</td>\n",
       "      <td>1</td>\n",
       "    </tr>\n",
       "    <tr>\n",
       "      <th>17105</th>\n",
       "      <td>364</td>\n",
       "      <td>2018-03-31 00:45:26.4970</td>\n",
       "      <td>2018-03-31 00:51:31.4750</td>\n",
       "      <td>3640</td>\n",
       "      <td>Journal Square</td>\n",
       "      <td>40.73367</td>\n",
       "      <td>-74.0625</td>\n",
       "      <td>3212</td>\n",
       "      <td>Christ Hospital</td>\n",
       "      <td>40.734786</td>\n",
       "      <td>-74.050444</td>\n",
       "      <td>26228</td>\n",
       "      <td>Subscriber</td>\n",
       "      <td>1986</td>\n",
       "      <td>2</td>\n",
       "    </tr>\n",
       "    <tr>\n",
       "      <th>17106</th>\n",
       "      <td>336</td>\n",
       "      <td>2018-03-31 07:38:32.7490</td>\n",
       "      <td>2018-03-31 07:44:09.0950</td>\n",
       "      <td>3640</td>\n",
       "      <td>Journal Square</td>\n",
       "      <td>40.73367</td>\n",
       "      <td>-74.0625</td>\n",
       "      <td>3207</td>\n",
       "      <td>Oakland Ave</td>\n",
       "      <td>40.737604</td>\n",
       "      <td>-74.052478</td>\n",
       "      <td>31954</td>\n",
       "      <td>Subscriber</td>\n",
       "      <td>1971</td>\n",
       "      <td>1</td>\n",
       "    </tr>\n",
       "    <tr>\n",
       "      <th>17107</th>\n",
       "      <td>194</td>\n",
       "      <td>2018-03-31 12:08:09.5080</td>\n",
       "      <td>2018-03-31 12:11:23.7180</td>\n",
       "      <td>3640</td>\n",
       "      <td>Journal Square</td>\n",
       "      <td>40.73367</td>\n",
       "      <td>-74.0625</td>\n",
       "      <td>3201</td>\n",
       "      <td>Dey St</td>\n",
       "      <td>40.737711</td>\n",
       "      <td>-74.066921</td>\n",
       "      <td>29491</td>\n",
       "      <td>Subscriber</td>\n",
       "      <td>1963</td>\n",
       "      <td>1</td>\n",
       "    </tr>\n",
       "    <tr>\n",
       "      <th>17108</th>\n",
       "      <td>290</td>\n",
       "      <td>2018-03-31 19:54:45.0990</td>\n",
       "      <td>2018-03-31 19:59:35.3650</td>\n",
       "      <td>3640</td>\n",
       "      <td>Journal Square</td>\n",
       "      <td>40.73367</td>\n",
       "      <td>-74.0625</td>\n",
       "      <td>3207</td>\n",
       "      <td>Oakland Ave</td>\n",
       "      <td>40.737604</td>\n",
       "      <td>-74.052478</td>\n",
       "      <td>31681</td>\n",
       "      <td>Subscriber</td>\n",
       "      <td>1989</td>\n",
       "      <td>1</td>\n",
       "    </tr>\n",
       "  </tbody>\n",
       "</table>\n",
       "</div>"
      ],
      "text/plain": [
       "       tripduration                 starttime                  stoptime  \\\n",
       "17104           239  2018-03-30 21:24:17.9440  2018-03-30 21:28:17.7570   \n",
       "17105           364  2018-03-31 00:45:26.4970  2018-03-31 00:51:31.4750   \n",
       "17106           336  2018-03-31 07:38:32.7490  2018-03-31 07:44:09.0950   \n",
       "17107           194  2018-03-31 12:08:09.5080  2018-03-31 12:11:23.7180   \n",
       "17108           290  2018-03-31 19:54:45.0990  2018-03-31 19:59:35.3650   \n",
       "\n",
       "       start station id start station name  start station latitude  \\\n",
       "17104              3640     Journal Square                40.73367   \n",
       "17105              3640     Journal Square                40.73367   \n",
       "17106              3640     Journal Square                40.73367   \n",
       "17107              3640     Journal Square                40.73367   \n",
       "17108              3640     Journal Square                40.73367   \n",
       "\n",
       "       start station longitude  end station id end station name  \\\n",
       "17104                 -74.0625            3194  McGinley Square   \n",
       "17105                 -74.0625            3212  Christ Hospital   \n",
       "17106                 -74.0625            3207      Oakland Ave   \n",
       "17107                 -74.0625            3201           Dey St   \n",
       "17108                 -74.0625            3207      Oakland Ave   \n",
       "\n",
       "       end station latitude  end station longitude  bikeid    usertype  \\\n",
       "17104             40.725340             -74.067622   29616  Subscriber   \n",
       "17105             40.734786             -74.050444   26228  Subscriber   \n",
       "17106             40.737604             -74.052478   31954  Subscriber   \n",
       "17107             40.737711             -74.066921   29491  Subscriber   \n",
       "17108             40.737604             -74.052478   31681  Subscriber   \n",
       "\n",
       "       birth year  gender  \n",
       "17104        1990       1  \n",
       "17105        1986       2  \n",
       "17106        1971       1  \n",
       "17107        1963       1  \n",
       "17108        1989       1  "
      ]
     },
     "execution_count": 55,
     "metadata": {},
     "output_type": "execute_result"
    }
   ],
   "source": [
    "df.tail()"
   ]
  },
  {
   "cell_type": "code",
   "execution_count": 56,
   "metadata": {},
   "outputs": [
    {
     "data": {
      "text/plain": [
       "(Index(['tripduration', 'starttime', 'stoptime', 'start station id',\n",
       "        'start station name', 'start station latitude',\n",
       "        'start station longitude', 'end station id', 'end station name',\n",
       "        'end station latitude', 'end station longitude', 'bikeid', 'usertype',\n",
       "        'birth year', 'gender'],\n",
       "       dtype='object'), 15)"
      ]
     },
     "execution_count": 56,
     "metadata": {},
     "output_type": "execute_result"
    }
   ],
   "source": [
    "df.columns, len(df.columns)"
   ]
  },
  {
   "cell_type": "code",
   "execution_count": 168,
   "metadata": {},
   "outputs": [
    {
     "data": {
      "image/png": "[encoded data removed]",
      "text/plain": [
       "<matplotlib.figure.Figure at 0x7f5551f91c18>"
      ]
     },
     "metadata": {},
     "output_type": "display_data"
    }
   ],
   "source": [
    "fig = pl.figure(figsize=(20,6), dpi=100)\n",
    "ax1 = ((df_dob['birth year'].groupby([df_dob['birth year']]).count())).plot(kind=\"bar\", color='IndianRed', title='G1')\n"
   ]
  },
  {
   "cell_type": "code",
   "execution_count": 145,
   "metadata": {},
   "outputs": [
    {
     "data": {
      "text/html": [
       "<div>\n",
       "<table border=\"1\" class=\"dataframe\">\n",
       "  <thead>\n",
       "    <tr style=\"text-align: right;\">\n",
       "      <th></th>\n",
       "      <th>birth year</th>\n",
       "    </tr>\n",
       "  </thead>\n",
       "  <tbody>\n",
       "    <tr>\n",
       "      <th>0</th>\n",
       "      <td>1981</td>\n",
       "    </tr>\n",
       "    <tr>\n",
       "      <th>1</th>\n",
       "      <td>1966</td>\n",
       "    </tr>\n",
       "    <tr>\n",
       "      <th>2</th>\n",
       "      <td>1975</td>\n",
       "    </tr>\n",
       "    <tr>\n",
       "      <th>3</th>\n",
       "      <td>1970</td>\n",
       "    </tr>\n",
       "    <tr>\n",
       "      <th>4</th>\n",
       "      <td>1979</td>\n",
       "    </tr>\n",
       "  </tbody>\n",
       "</table>\n",
       "</div>"
      ],
      "text/plain": [
       "   birth year\n",
       "0        1981\n",
       "1        1966\n",
       "2        1975\n",
       "3        1970\n",
       "4        1979"
      ]
     },
     "execution_count": 145,
     "metadata": {},
     "output_type": "execute_result"
    }
   ],
   "source": [
    "df_dob = df[['birth year']]\n",
    "df_dob.head()"
   ]
  },
  {
   "cell_type": "code",
   "execution_count": 162,
   "metadata": {},
   "outputs": [
    {
     "data": {
      "text/plain": [
       "<matplotlib.axes._subplots.AxesSubplot at 0x7f5550f5dfd0>"
      ]
     },
     "execution_count": 162,
     "metadata": {},
     "output_type": "execute_result"
    },
    {
     "data": {
      "image/png": "[encoded data removed]",
      "text/plain": [
       "<matplotlib.figure.Figure at 0x7f5551156780>"
      ]
     },
     "metadata": {},
     "output_type": "display_data"
    }
   ],
   "source": [
    "fig = pl.figure(figsize=(20,6), dpi=100)\n",
    "\n",
    "((df_dob['birth year'][G1].groupby([df_dob['birth year'][G1]]).count())).plot(kind=\"bar\", color='IndianRed', title='G1')"
   ]
  },
  {
   "cell_type": "code",
   "execution_count": 155,
   "metadata": {},
   "outputs": [
    {
     "data": {
      "text/plain": [
       "(342, 1930, 5852, 9237, 63, list)"
      ]
     },
     "execution_count": 155,
     "metadata": {},
     "output_type": "execute_result"
    }
   ],
   "source": [
    "G1 = []\n",
    "G2 = []\n",
    "G3 = []\n",
    "G4 = []\n",
    "G5 = []\n",
    "\n",
    "for i in df_dob['birth year']:\n",
    "    if 1928 <= i <= 1954:\n",
    "        G1.append(i) \n",
    "    if 1946 <= i <= 1964:\n",
    "        G2.append(i)\n",
    "    if 1965 <= i <= 1980:\n",
    "        G3.append(i)\n",
    "    if 1981 <= i <= 1996:\n",
    "        G4.append(i)\n",
    "    if 1997 <= i <= 2018:\n",
    "        G5.append(i)\n",
    "        \n",
    "len(G1), len(G2), len(G3), len(G4), len(G5), type(G1)"
   ]
  },
  {
   "cell_type": "code",
   "execution_count": 167,
   "metadata": {},
   "outputs": [
    {
     "data": {
      "text/plain": [
       "array([1931, 1931, 1931, 1931, 1931, 1931, 1931, 1931, 1931, 1931, 1931,\n",
       "       1931, 1931, 1931, 1931, 1931, 1931, 1931, 1931, 1941, 1941, 1941,\n",
       "       1941, 1941, 1949, 1949, 1949, 1949, 1949, 1949, 1949, 1949, 1949,\n",
       "       1949, 1949, 1949, 1949, 1949, 1949, 1949, 1949, 1949, 1949, 1949,\n",
       "       1949, 1949, 1949, 1949, 1949, 1949, 1949, 1949, 1949, 1949, 1949,\n",
       "       1949, 1949, 1949, 1949, 1949, 1949, 1950, 1950, 1950, 1950, 1950,\n",
       "       1950, 1950, 1950, 1950, 1950, 1950, 1950, 1950, 1950, 1950, 1950,\n",
       "       1950, 1950, 1950, 1950, 1950, 1950, 1950, 1950, 1950, 1950, 1950,\n",
       "       1950, 1950, 1950, 1950, 1950, 1950, 1950, 1950, 1950, 1950, 1950,\n",
       "       1950, 1950, 1950, 1950, 1950, 1950, 1950, 1950, 1950, 1950, 1950,\n",
       "       1950, 1950, 1950, 1950, 1950, 1950, 1950, 1950, 1950, 1950, 1950,\n",
       "       1950, 1951, 1951, 1951, 1951, 1952, 1952, 1952, 1952, 1952, 1952,\n",
       "       1952, 1952, 1952, 1952, 1952, 1952, 1952, 1952, 1952, 1952, 1952,\n",
       "       1952, 1952, 1952, 1952, 1952, 1952, 1952, 1952, 1952, 1952, 1952,\n",
       "       1952, 1952, 1952, 1952, 1952, 1952, 1952, 1952, 1952, 1952, 1952,\n",
       "       1952, 1952, 1952, 1952, 1952, 1952, 1952, 1952, 1952, 1952, 1952,\n",
       "       1952, 1952, 1952, 1952, 1952, 1952, 1952, 1952, 1952, 1952, 1952,\n",
       "       1952, 1952, 1952, 1952, 1952, 1952, 1952, 1952, 1952, 1952, 1952,\n",
       "       1952, 1952, 1952, 1952, 1953, 1953, 1953, 1953, 1953, 1953, 1953,\n",
       "       1953, 1953, 1953, 1953, 1953, 1953, 1953, 1953, 1953, 1953, 1953,\n",
       "       1953, 1953, 1953, 1953, 1953, 1953, 1953, 1953, 1953, 1953, 1953,\n",
       "       1953, 1953, 1953, 1953, 1953, 1953, 1953, 1953, 1953, 1953, 1953,\n",
       "       1953, 1953, 1953, 1953, 1953, 1953, 1953, 1953, 1953, 1953, 1953,\n",
       "       1953, 1953, 1954, 1954, 1954, 1954, 1954, 1954, 1954, 1954, 1954,\n",
       "       1954, 1954, 1954, 1954, 1954, 1954, 1954, 1954, 1954, 1954, 1954,\n",
       "       1954, 1954, 1954, 1954, 1954, 1954, 1954, 1954, 1954, 1954, 1954,\n",
       "       1954, 1954, 1954, 1954, 1954, 1954, 1954, 1954, 1954, 1954, 1954,\n",
       "       1954, 1954, 1954, 1954, 1954, 1954, 1954, 1954, 1954, 1954, 1954,\n",
       "       1954, 1954, 1954, 1954, 1954, 1954, 1954, 1954, 1954, 1954, 1954,\n",
       "       1954, 1954, 1954, 1954, 1954, 1954, 1954, 1954, 1954, 1954, 1954,\n",
       "       1954, 1954, 1954, 1954, 1954, 1954, 1954, 1954, 1954, 1954, 1954,\n",
       "       1954])"
      ]
     },
     "execution_count": 167,
     "metadata": {},
     "output_type": "execute_result"
    }
   ],
   "source": [
    "sort(G1)"
   ]
  },
  {
   "cell_type": "code",
   "execution_count": null,
   "metadata": {},
   "outputs": [],
   "source": [
    "for i in G1:\n",
    "    i.plot"
   ]
  },
  {
   "cell_type": "code",
   "execution_count": 15,
   "metadata": {},
   "outputs": [
    {
     "data": {
      "text/plain": [
       "(342, pandas.core.series.Series)"
      ]
     },
     "execution_count": 15,
     "metadata": {},
     "output_type": "execute_result"
    }
   ],
   "source": [
    "#import numpy as np\n",
    "G_1 = df_dob['birth year'][G1]\n",
    "len(G_1), type(G_1)"
   ]
  },
  {
   "cell_type": "code",
   "execution_count": 11,
   "metadata": {},
   "outputs": [
    {
     "data": {
      "text/plain": [
       "342"
      ]
     },
     "execution_count": 11,
     "metadata": {},
     "output_type": "execute_result"
    }
   ],
   "source": [
    "G_1.count()"
   ]
  },
  {
   "cell_type": "code",
   "execution_count": 127,
   "metadata": {},
   "outputs": [
    {
     "data": {
      "text/html": [
       "<div>\n",
       "<table border=\"1\" class=\"dataframe\">\n",
       "  <thead>\n",
       "    <tr style=\"text-align: right;\">\n",
       "      <th></th>\n",
       "      <th>birth year</th>\n",
       "    </tr>\n",
       "  </thead>\n",
       "  <tbody>\n",
       "    <tr>\n",
       "      <th>7564</th>\n",
       "      <td>1888</td>\n",
       "    </tr>\n",
       "    <tr>\n",
       "      <th>3697</th>\n",
       "      <td>1888</td>\n",
       "    </tr>\n",
       "    <tr>\n",
       "      <th>7587</th>\n",
       "      <td>1888</td>\n",
       "    </tr>\n",
       "    <tr>\n",
       "      <th>14872</th>\n",
       "      <td>1931</td>\n",
       "    </tr>\n",
       "    <tr>\n",
       "      <th>14627</th>\n",
       "      <td>1931</td>\n",
       "    </tr>\n",
       "  </tbody>\n",
       "</table>\n",
       "</div>"
      ],
      "text/plain": [
       "       birth year\n",
       "7564         1888\n",
       "3697         1888\n",
       "7587         1888\n",
       "14872        1931\n",
       "14627        1931"
      ]
     },
     "execution_count": 127,
     "metadata": {},
     "output_type": "execute_result"
    }
   ],
   "source": [
    "s = df_dob.sort_values(by='birth year', ascending=True)\n",
    "s = s.\n",
    "s.head()"
   ]
  },
  {
   "cell_type": "code",
   "execution_count": 121,
   "metadata": {},
   "outputs": [
    {
     "data": {
      "text/html": [
       "<div>\n",
       "<table border=\"1\" class=\"dataframe\">\n",
       "  <thead>\n",
       "    <tr style=\"text-align: right;\">\n",
       "      <th></th>\n",
       "      <th>birth year</th>\n",
       "    </tr>\n",
       "  </thead>\n",
       "  <tbody>\n",
       "    <tr>\n",
       "      <th>14749</th>\n",
       "      <td>1999</td>\n",
       "    </tr>\n",
       "    <tr>\n",
       "      <th>7175</th>\n",
       "      <td>1999</td>\n",
       "    </tr>\n",
       "    <tr>\n",
       "      <th>1152</th>\n",
       "      <td>1999</td>\n",
       "    </tr>\n",
       "    <tr>\n",
       "      <th>10137</th>\n",
       "      <td>1999</td>\n",
       "    </tr>\n",
       "    <tr>\n",
       "      <th>1520</th>\n",
       "      <td>1999</td>\n",
       "    </tr>\n",
       "  </tbody>\n",
       "</table>\n",
       "</div>"
      ],
      "text/plain": [
       "       birth year\n",
       "14749        1999\n",
       "7175         1999\n",
       "1152         1999\n",
       "10137        1999\n",
       "1520         1999"
      ]
     },
     "execution_count": 121,
     "metadata": {},
     "output_type": "execute_result"
    }
   ],
   "source": [
    "s.tail()"
   ]
  },
  {
   "cell_type": "code",
   "execution_count": null,
   "metadata": {},
   "outputs": [],
   "source": [
    "len( == 1973)"
   ]
  },
  {
   "cell_type": "code",
   "execution_count": 126,
   "metadata": {},
   "outputs": [
    {
     "data": {
      "text/plain": [
       "1981"
      ]
     },
     "execution_count": 126,
     "metadata": {},
     "output_type": "execute_result"
    }
   ],
   "source": [
    "df_dob['birth year'][0]"
   ]
  },
  {
   "cell_type": "code",
   "execution_count": null,
   "metadata": {},
   "outputs": [],
   "source": [
    "#import numpy as np\n",
    "index = []\n",
    "G1_start = (s['birth year'] == 1973).index\n",
    "index.append(G1_start)\n",
    "\n",
    "index\n",
    "#G1 = pd.DataFrame({'birth year' : np.random.randint(1973, 2001)}).set_index(range(8))\n",
    "\n",
    "#G_1 = df_dob.sort_values(by='birth year')[:2000]\n",
    "#G_1 = df_dob[G1]\n",
    "#G_1\n",
    "#len(G_1)"
   ]
  },
  {
   "cell_type": "code",
   "execution_count": null,
   "metadata": {},
   "outputs": [],
   "source": [
    "s[G1_start].index"
   ]
  },
  {
   "cell_type": "code",
   "execution_count": null,
   "metadata": {},
   "outputs": [],
   "source": [
    "G1_end = s['birth year'] == 1999\n",
    "df_dob[G1_end].index"
   ]
  },
  {
   "cell_type": "code",
   "execution_count": null,
   "metadata": {},
   "outputs": [],
   "source": [
    "G_1 = df_dob.sort_values(by='birth year')[59:2000]"
   ]
  },
  {
   "cell_type": "code",
   "execution_count": null,
   "metadata": {},
   "outputs": [],
   "source": []
  },
  {
   "cell_type": "code",
   "execution_count": null,
   "metadata": {},
   "outputs": [],
   "source": []
  },
  {
   "cell_type": "code",
   "execution_count": null,
   "metadata": {},
   "outputs": [],
   "source": []
  },
  {
   "cell_type": "code",
   "execution_count": null,
   "metadata": {},
   "outputs": [],
   "source": []
  },
  {
   "cell_type": "code",
   "execution_count": null,
   "metadata": {},
   "outputs": [],
   "source": []
  },
  {
   "cell_type": "code",
   "execution_count": null,
   "metadata": {},
   "outputs": [],
   "source": []
  },
  {
   "cell_type": "code",
   "execution_count": null,
   "metadata": {},
   "outputs": [],
   "source": []
  }
 ],
 "metadata": {
  "kernelspec": {
   "display_name": "PUI2016_Python3",
   "language": "python",
   "name": "pui2016_python3"
  },
  "language_info": {
   "codemirror_mode": {
    "name": "ipython",
    "version": 3
   },
   "file_extension": ".py",
   "mimetype": "text/x-python",
   "name": "python",
   "nbconvert_exporter": "python",
   "pygments_lexer": "ipython3",
   "version": "3.5.4"
  }
 },
 "nbformat": 4,
 "nbformat_minor": 2
}
