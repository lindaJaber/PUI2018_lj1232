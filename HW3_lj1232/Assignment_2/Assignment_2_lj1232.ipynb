{
 "cells": [
  {
   "cell_type": "markdown",
   "metadata": {},
   "source": [
    "## Downloading Data From the Portal"
   ]
  },
  {
   "cell_type": "code",
   "execution_count": 2,
   "metadata": {},
   "outputs": [
    {
     "name": "stdout",
     "output_type": "stream",
     "text": [
      "Populating the interactive namespace from numpy and matplotlib\n"
     ]
    }
   ],
   "source": [
    "from __future__ import print_function\n",
    "\n",
    "import os\n",
    "import pandas as pd\n",
    "\n",
    "%pylab inline"
   ]
  },
  {
   "cell_type": "code",
   "execution_count": 4,
   "metadata": {
    "scrolled": true
   },
   "outputs": [
    {
     "name": "stdout",
     "output_type": "stream",
     "text": [
      "  % Total    % Received % Xferd  Average Speed   Time    Time     Time  Current\n",
      "                                 Dload  Upload   Total   Spent    Left  Speed\n",
      "100  192M    0  192M    0     0  2379k      0 --:--:--  0:01:22 --:--:-- 2430k    0 --:--:--  0:00:56 --:--:-- 2394k\n"
     ]
    }
   ],
   "source": [
    "#Transfering data from URL\n",
    "!curl https://data.cityofnewyork.us/api/views/eabe-havv/rows.csv?accessType=DOWNLOAD > DOB_Complaints_311.csv"
   ]
  },
  {
   "cell_type": "code",
   "execution_count": 5,
   "metadata": {},
   "outputs": [],
   "source": [
    "#Moving the .csv file to PUIdata folder\n",
    "!mv DOB_Complaints_311.csv $PUIDATA"
   ]
  },
  {
   "cell_type": "code",
   "execution_count": 6,
   "metadata": {},
   "outputs": [
    {
     "name": "stdout",
     "output_type": "stream",
     "text": [
      "dhsdaily.csv  DOB_Complaints_311.csv\r\n"
     ]
    }
   ],
   "source": [
    "#checking if the file is now in the folder\n",
    "!ls $PUIDATA"
   ]
  },
  {
   "cell_type": "markdown",
   "metadata": {},
   "source": [
    "## Reading the data with Pandas"
   ]
  },
  {
   "cell_type": "code",
   "execution_count": 7,
   "metadata": {},
   "outputs": [
    {
     "name": "stderr",
     "output_type": "stream",
     "text": [
      "/usr/local/Anaconda3-5.0.0-Linux-x86_64/envs/PUI2016_Python3/lib/python3.5/site-packages/IPython/core/interactiveshell.py:2717: DtypeWarning: Columns (4,7) have mixed types. Specify dtype option on import or set low_memory=False.\n",
      "  interactivity=interactivity, compiler=compiler, result=result)\n"
     ]
    }
   ],
   "source": [
    "#Reading the dataframe with pandas\n",
    "dob=pd.read_csv(\"%s/DOB_Complaints_311.csv\"%os.getenv(\"PUIDATA\"))"
   ]
  },
  {
   "cell_type": "code",
   "execution_count": 8,
   "metadata": {
    "scrolled": true
   },
   "outputs": [
    {
     "data": {
      "text/html": [
       "<div>\n",
       "<table border=\"1\" class=\"dataframe\">\n",
       "  <thead>\n",
       "    <tr style=\"text-align: right;\">\n",
       "      <th></th>\n",
       "      <th>Complaint Number</th>\n",
       "      <th>Status</th>\n",
       "      <th>Date Entered</th>\n",
       "      <th>House Number</th>\n",
       "      <th>ZIP Code</th>\n",
       "      <th>House Street</th>\n",
       "      <th>BIN</th>\n",
       "      <th>Community Board</th>\n",
       "      <th>Special District</th>\n",
       "      <th>Complaint Category</th>\n",
       "      <th>Unit</th>\n",
       "      <th>Disposition Date</th>\n",
       "      <th>Disposition Code</th>\n",
       "      <th>Inspection Date</th>\n",
       "      <th>DOBRunDate</th>\n",
       "    </tr>\n",
       "  </thead>\n",
       "  <tbody>\n",
       "    <tr>\n",
       "      <th>0</th>\n",
       "      <td>4483428</td>\n",
       "      <td>CLOSED</td>\n",
       "      <td>06/08/2011</td>\n",
       "      <td>10</td>\n",
       "      <td>NaN</td>\n",
       "      <td>MUHLEBACH COURT</td>\n",
       "      <td>4298330</td>\n",
       "      <td>414</td>\n",
       "      <td></td>\n",
       "      <td>05</td>\n",
       "      <td>QNS.</td>\n",
       "      <td>04/25/2013</td>\n",
       "      <td>L3</td>\n",
       "      <td>04/25/2013</td>\n",
       "      <td>04/26/2013 12:00:00 AM</td>\n",
       "    </tr>\n",
       "    <tr>\n",
       "      <th>1</th>\n",
       "      <td>1347475</td>\n",
       "      <td>CLOSED</td>\n",
       "      <td>04/23/2013</td>\n",
       "      <td>157</td>\n",
       "      <td>NaN</td>\n",
       "      <td>BROOME STREET</td>\n",
       "      <td>1004077</td>\n",
       "      <td>103</td>\n",
       "      <td></td>\n",
       "      <td>23</td>\n",
       "      <td>SCFLD</td>\n",
       "      <td>04/25/2013</td>\n",
       "      <td>A8</td>\n",
       "      <td>04/25/2013</td>\n",
       "      <td>04/26/2013 12:00:00 AM</td>\n",
       "    </tr>\n",
       "    <tr>\n",
       "      <th>2</th>\n",
       "      <td>1347579</td>\n",
       "      <td>CLOSED</td>\n",
       "      <td>04/25/2013</td>\n",
       "      <td>157</td>\n",
       "      <td>NaN</td>\n",
       "      <td>BROOME STREET</td>\n",
       "      <td>1004077</td>\n",
       "      <td>103</td>\n",
       "      <td></td>\n",
       "      <td>23</td>\n",
       "      <td>SCFLD</td>\n",
       "      <td>04/25/2013</td>\n",
       "      <td>I1</td>\n",
       "      <td>04/25/2013</td>\n",
       "      <td>04/26/2013 12:00:00 AM</td>\n",
       "    </tr>\n",
       "    <tr>\n",
       "      <th>3</th>\n",
       "      <td>1347578</td>\n",
       "      <td>ACTIVE</td>\n",
       "      <td>04/25/2013</td>\n",
       "      <td>157</td>\n",
       "      <td>NaN</td>\n",
       "      <td>BROOME STREET</td>\n",
       "      <td>1004077</td>\n",
       "      <td>103</td>\n",
       "      <td></td>\n",
       "      <td>35</td>\n",
       "      <td>MAN.</td>\n",
       "      <td>NaN</td>\n",
       "      <td></td>\n",
       "      <td>NaN</td>\n",
       "      <td>04/26/2013 12:00:00 AM</td>\n",
       "    </tr>\n",
       "    <tr>\n",
       "      <th>4</th>\n",
       "      <td>1347627</td>\n",
       "      <td>ACTIVE</td>\n",
       "      <td>04/25/2013</td>\n",
       "      <td>561</td>\n",
       "      <td>NaN</td>\n",
       "      <td>BROADWAY</td>\n",
       "      <td>1007574</td>\n",
       "      <td>102</td>\n",
       "      <td></td>\n",
       "      <td>05</td>\n",
       "      <td>MAN.</td>\n",
       "      <td>NaN</td>\n",
       "      <td></td>\n",
       "      <td>NaN</td>\n",
       "      <td>04/26/2013 12:00:00 AM</td>\n",
       "    </tr>\n",
       "    <tr>\n",
       "      <th>5</th>\n",
       "      <td>1340897</td>\n",
       "      <td>ACTIVE</td>\n",
       "      <td>01/08/2013</td>\n",
       "      <td>191</td>\n",
       "      <td>NaN</td>\n",
       "      <td>WEST 10 STREET</td>\n",
       "      <td>1011217</td>\n",
       "      <td>102</td>\n",
       "      <td></td>\n",
       "      <td>05</td>\n",
       "      <td>MAN.</td>\n",
       "      <td>04/25/2013</td>\n",
       "      <td>C1</td>\n",
       "      <td>04/23/2013</td>\n",
       "      <td>04/26/2013 12:00:00 AM</td>\n",
       "    </tr>\n",
       "    <tr>\n",
       "      <th>6</th>\n",
       "      <td>1347635</td>\n",
       "      <td>ACTIVE</td>\n",
       "      <td>04/25/2013</td>\n",
       "      <td>501</td>\n",
       "      <td>NaN</td>\n",
       "      <td>10 AVENUE</td>\n",
       "      <td>1012527</td>\n",
       "      <td>104</td>\n",
       "      <td></td>\n",
       "      <td>45</td>\n",
       "      <td>MAN.</td>\n",
       "      <td>NaN</td>\n",
       "      <td></td>\n",
       "      <td>NaN</td>\n",
       "      <td>04/26/2013 12:00:00 AM</td>\n",
       "    </tr>\n",
       "  </tbody>\n",
       "</table>\n",
       "</div>"
      ],
      "text/plain": [
       "   Complaint Number  Status Date Entered  House Number ZIP Code  \\\n",
       "0           4483428  CLOSED   06/08/2011  10                NaN   \n",
       "1           1347475  CLOSED   04/23/2013  157               NaN   \n",
       "2           1347579  CLOSED   04/25/2013  157               NaN   \n",
       "3           1347578  ACTIVE   04/25/2013  157               NaN   \n",
       "4           1347627  ACTIVE   04/25/2013  561               NaN   \n",
       "5           1340897  ACTIVE   01/08/2013  191               NaN   \n",
       "6           1347635  ACTIVE   04/25/2013  501               NaN   \n",
       "\n",
       "                       House Street      BIN Community Board Special District  \\\n",
       "0  MUHLEBACH COURT                   4298330             414                    \n",
       "1  BROOME STREET                     1004077             103                    \n",
       "2  BROOME STREET                     1004077             103                    \n",
       "3  BROOME STREET                     1004077             103                    \n",
       "4  BROADWAY                          1007574             102                    \n",
       "5  WEST 10 STREET                    1011217             102                    \n",
       "6  10 AVENUE                         1012527             104                    \n",
       "\n",
       "  Complaint Category   Unit Disposition Date Disposition Code Inspection Date  \\\n",
       "0                 05   QNS.       04/25/2013               L3      04/25/2013   \n",
       "1                 23  SCFLD       04/25/2013               A8      04/25/2013   \n",
       "2                 23  SCFLD       04/25/2013               I1      04/25/2013   \n",
       "3                 35   MAN.              NaN                              NaN   \n",
       "4                 05   MAN.              NaN                              NaN   \n",
       "5                 05   MAN.       04/25/2013               C1      04/23/2013   \n",
       "6                 45   MAN.              NaN                              NaN   \n",
       "\n",
       "               DOBRunDate  \n",
       "0  04/26/2013 12:00:00 AM  \n",
       "1  04/26/2013 12:00:00 AM  \n",
       "2  04/26/2013 12:00:00 AM  \n",
       "3  04/26/2013 12:00:00 AM  \n",
       "4  04/26/2013 12:00:00 AM  \n",
       "5  04/26/2013 12:00:00 AM  \n",
       "6  04/26/2013 12:00:00 AM  "
      ]
     },
     "execution_count": 8,
     "metadata": {},
     "output_type": "execute_result"
    }
   ],
   "source": [
    "#Displaying the first seven rows of the dataframe\n",
    "dob.head(7)"
   ]
  },
  {
   "cell_type": "code",
   "execution_count": 9,
   "metadata": {},
   "outputs": [
    {
     "data": {
      "text/html": [
       "<div>\n",
       "<table border=\"1\" class=\"dataframe\">\n",
       "  <thead>\n",
       "    <tr style=\"text-align: right;\">\n",
       "      <th></th>\n",
       "      <th>Complaint Number</th>\n",
       "      <th>Status</th>\n",
       "      <th>Date Entered</th>\n",
       "      <th>House Number</th>\n",
       "      <th>ZIP Code</th>\n",
       "      <th>House Street</th>\n",
       "      <th>BIN</th>\n",
       "      <th>Community Board</th>\n",
       "      <th>Special District</th>\n",
       "      <th>Complaint Category</th>\n",
       "      <th>Unit</th>\n",
       "      <th>Disposition Date</th>\n",
       "      <th>Disposition Code</th>\n",
       "      <th>Inspection Date</th>\n",
       "      <th>DOBRunDate</th>\n",
       "    </tr>\n",
       "  </thead>\n",
       "  <tbody>\n",
       "    <tr>\n",
       "      <th>1429691</th>\n",
       "      <td>1490495</td>\n",
       "      <td>ACTIVE</td>\n",
       "      <td>09/22/2018</td>\n",
       "      <td>815</td>\n",
       "      <td>10017</td>\n",
       "      <td>2 AVENUE</td>\n",
       "      <td>1037561</td>\n",
       "      <td>106</td>\n",
       "      <td></td>\n",
       "      <td>23</td>\n",
       "      <td>SCFLD</td>\n",
       "      <td>NaN</td>\n",
       "      <td></td>\n",
       "      <td>NaN</td>\n",
       "      <td>09/23/2018 12:00:00 AM</td>\n",
       "    </tr>\n",
       "    <tr>\n",
       "      <th>1429692</th>\n",
       "      <td>1490472</td>\n",
       "      <td>ACTIVE</td>\n",
       "      <td>09/22/2018</td>\n",
       "      <td>402</td>\n",
       "      <td>10031</td>\n",
       "      <td>WEST 148 STREET</td>\n",
       "      <td>1061455</td>\n",
       "      <td>109</td>\n",
       "      <td></td>\n",
       "      <td>1E</td>\n",
       "      <td>SCFLD</td>\n",
       "      <td>09/22/2018</td>\n",
       "      <td>E7</td>\n",
       "      <td>09/22/2018</td>\n",
       "      <td>09/23/2018 12:00:00 AM</td>\n",
       "    </tr>\n",
       "    <tr>\n",
       "      <th>1429693</th>\n",
       "      <td>1490458</td>\n",
       "      <td>ACTIVE</td>\n",
       "      <td>09/22/2018</td>\n",
       "      <td>446</td>\n",
       "      <td>10001</td>\n",
       "      <td>WEST 34 STREET</td>\n",
       "      <td>1012855</td>\n",
       "      <td>104</td>\n",
       "      <td></td>\n",
       "      <td>59</td>\n",
       "      <td>ELCTR</td>\n",
       "      <td>NaN</td>\n",
       "      <td></td>\n",
       "      <td>NaN</td>\n",
       "      <td>09/23/2018 12:00:00 AM</td>\n",
       "    </tr>\n",
       "    <tr>\n",
       "      <th>1429694</th>\n",
       "      <td>3668435</td>\n",
       "      <td>ACTIVE</td>\n",
       "      <td>09/22/2018</td>\n",
       "      <td>70</td>\n",
       "      <td>11201</td>\n",
       "      <td>CLARK STREET</td>\n",
       "      <td>3001864</td>\n",
       "      <td>302</td>\n",
       "      <td></td>\n",
       "      <td>23</td>\n",
       "      <td>SCFLD</td>\n",
       "      <td>NaN</td>\n",
       "      <td></td>\n",
       "      <td>NaN</td>\n",
       "      <td>09/23/2018 12:00:00 AM</td>\n",
       "    </tr>\n",
       "    <tr>\n",
       "      <th>1429695</th>\n",
       "      <td>4748777</td>\n",
       "      <td>ACTIVE</td>\n",
       "      <td>09/22/2018</td>\n",
       "      <td>61-54</td>\n",
       "      <td>11379</td>\n",
       "      <td>77 STREET</td>\n",
       "      <td>4067139</td>\n",
       "      <td>405</td>\n",
       "      <td></td>\n",
       "      <td>23</td>\n",
       "      <td>SCFLD</td>\n",
       "      <td>NaN</td>\n",
       "      <td></td>\n",
       "      <td>NaN</td>\n",
       "      <td>09/23/2018 12:00:00 AM</td>\n",
       "    </tr>\n",
       "  </tbody>\n",
       "</table>\n",
       "</div>"
      ],
      "text/plain": [
       "         Complaint Number  Status Date Entered  House Number ZIP Code  \\\n",
       "1429691           1490495  ACTIVE   09/22/2018  815             10017   \n",
       "1429692           1490472  ACTIVE   09/22/2018  402             10031   \n",
       "1429693           1490458  ACTIVE   09/22/2018  446             10001   \n",
       "1429694           3668435  ACTIVE   09/22/2018  70              11201   \n",
       "1429695           4748777  ACTIVE   09/22/2018  61-54           11379   \n",
       "\n",
       "                             House Street      BIN Community Board  \\\n",
       "1429691  2 AVENUE                          1037561             106   \n",
       "1429692  WEST 148 STREET                   1061455             109   \n",
       "1429693  WEST 34 STREET                    1012855             104   \n",
       "1429694  CLARK STREET                      3001864             302   \n",
       "1429695  77 STREET                         4067139             405   \n",
       "\n",
       "        Special District Complaint Category   Unit Disposition Date  \\\n",
       "1429691                                  23  SCFLD              NaN   \n",
       "1429692                                  1E  SCFLD       09/22/2018   \n",
       "1429693                                  59  ELCTR              NaN   \n",
       "1429694                                  23  SCFLD              NaN   \n",
       "1429695                                  23  SCFLD              NaN   \n",
       "\n",
       "        Disposition Code Inspection Date              DOBRunDate  \n",
       "1429691                              NaN  09/23/2018 12:00:00 AM  \n",
       "1429692               E7      09/22/2018  09/23/2018 12:00:00 AM  \n",
       "1429693                              NaN  09/23/2018 12:00:00 AM  \n",
       "1429694                              NaN  09/23/2018 12:00:00 AM  \n",
       "1429695                              NaN  09/23/2018 12:00:00 AM  "
      ]
     },
     "execution_count": 9,
     "metadata": {},
     "output_type": "execute_result"
    }
   ],
   "source": [
    "dob.tail()"
   ]
  },
  {
   "cell_type": "markdown",
   "metadata": {},
   "source": [
    "## Plotting the data"
   ]
  },
  {
   "cell_type": "code",
   "execution_count": 10,
   "metadata": {},
   "outputs": [
    {
     "data": {
      "image/png": "[encoded data removed]",
      "text/plain": [
       "<matplotlib.figure.Figure at 0x7f5c0033abe0>"
      ]
     },
     "metadata": {},
     "output_type": "display_data"
    }
   ],
   "source": [
    "#Plotting\n",
    "dob.plot(x=\"Complaint Number\", y='BIN', kind=\"scatter\", title='Fig.1 Experimenting with Scatter Plots');"
   ]
  },
  {
   "cell_type": "markdown",
   "metadata": {},
   "source": [
    "Figure 1: Showing how the Building Identification Number (BIN) varies as a function of the Complaint Number. There is no WHY and Take Home sicne we are not doing any analysis."
   ]
  },
  {
   "cell_type": "code",
   "execution_count": 11,
   "metadata": {},
   "outputs": [],
   "source": [
    "#Creating a new dataframe 'dob_2c' with two columns only\n",
    "dob_2c=dob[['Complaint Number', 'BIN']]"
   ]
  },
  {
   "cell_type": "code",
   "execution_count": 12,
   "metadata": {},
   "outputs": [
    {
     "data": {
      "text/html": [
       "<div>\n",
       "<table border=\"1\" class=\"dataframe\">\n",
       "  <thead>\n",
       "    <tr style=\"text-align: right;\">\n",
       "      <th></th>\n",
       "      <th>Complaint Number</th>\n",
       "      <th>BIN</th>\n",
       "    </tr>\n",
       "  </thead>\n",
       "  <tbody>\n",
       "    <tr>\n",
       "      <th>0</th>\n",
       "      <td>4483428</td>\n",
       "      <td>4298330</td>\n",
       "    </tr>\n",
       "    <tr>\n",
       "      <th>1</th>\n",
       "      <td>1347475</td>\n",
       "      <td>1004077</td>\n",
       "    </tr>\n",
       "    <tr>\n",
       "      <th>2</th>\n",
       "      <td>1347579</td>\n",
       "      <td>1004077</td>\n",
       "    </tr>\n",
       "    <tr>\n",
       "      <th>3</th>\n",
       "      <td>1347578</td>\n",
       "      <td>1004077</td>\n",
       "    </tr>\n",
       "    <tr>\n",
       "      <th>4</th>\n",
       "      <td>1347627</td>\n",
       "      <td>1007574</td>\n",
       "    </tr>\n",
       "    <tr>\n",
       "      <th>5</th>\n",
       "      <td>1340897</td>\n",
       "      <td>1011217</td>\n",
       "    </tr>\n",
       "    <tr>\n",
       "      <th>6</th>\n",
       "      <td>1347635</td>\n",
       "      <td>1012527</td>\n",
       "    </tr>\n",
       "  </tbody>\n",
       "</table>\n",
       "</div>"
      ],
      "text/plain": [
       "   Complaint Number      BIN\n",
       "0           4483428  4298330\n",
       "1           1347475  1004077\n",
       "2           1347579  1004077\n",
       "3           1347578  1004077\n",
       "4           1347627  1007574\n",
       "5           1340897  1011217\n",
       "6           1347635  1012527"
      ]
     },
     "execution_count": 12,
     "metadata": {},
     "output_type": "execute_result"
    }
   ],
   "source": [
    "#Displaying the first seven rows of the reducted dataframe 'dob_2c'\n",
    "dob_2c.head(7)"
   ]
  },
  {
   "cell_type": "code",
   "execution_count": 13,
   "metadata": {},
   "outputs": [
    {
     "data": {
      "image/png": "[encoded data removed]",
      "text/plain": [
       "<matplotlib.figure.Figure at 0x7f5c02518a20>"
      ]
     },
     "metadata": {},
     "output_type": "display_data"
    }
   ],
   "source": [
    "dob_2c.plot(x=\"BIN\", y=\"Complaint Number\", kind=\"scatter\", title=\"Fig.2 Experimenting with Scatter Plots\");"
   ]
  },
  {
   "cell_type": "markdown",
   "metadata": {},
   "source": [
    "Figure 2: Showing how the Complaint Number varies as a function of the Building Identification Number (BIN). There is no WHY and Take Home sicne we are not doing any analysis."
   ]
  },
  {
   "cell_type": "markdown",
   "metadata": {},
   "source": [
    "## Extra Credit: Use API and download a jason file"
   ]
  },
  {
   "cell_type": "code",
   "execution_count": 14,
   "metadata": {},
   "outputs": [],
   "source": [
    "#defining the API as 'url'\n",
    "url=\"https://data.cityofnewyork.us/resource/muk7-ct23.json\""
   ]
  },
  {
   "cell_type": "code",
   "execution_count": 15,
   "metadata": {},
   "outputs": [],
   "source": [
    "#Reading the json file\n",
    "df=pd.read_json(url)"
   ]
  },
  {
   "cell_type": "code",
   "execution_count": 16,
   "metadata": {},
   "outputs": [
    {
     "data": {
      "text/html": [
       "<div>\n",
       "<table border=\"1\" class=\"dataframe\">\n",
       "  <thead>\n",
       "    <tr style=\"text-align: right;\">\n",
       "      <th></th>\n",
       "      <th>bin</th>\n",
       "      <th>community_board</th>\n",
       "      <th>complaint_category</th>\n",
       "      <th>complaint_number</th>\n",
       "      <th>date_entered</th>\n",
       "      <th>disposition_code</th>\n",
       "      <th>disposition_date</th>\n",
       "      <th>dobrundate</th>\n",
       "      <th>house_number</th>\n",
       "      <th>house_street</th>\n",
       "      <th>inspection_date</th>\n",
       "      <th>special_district</th>\n",
       "      <th>status</th>\n",
       "      <th>unit</th>\n",
       "    </tr>\n",
       "  </thead>\n",
       "  <tbody>\n",
       "    <tr>\n",
       "      <th>0</th>\n",
       "      <td>4298330</td>\n",
       "      <td>414</td>\n",
       "      <td>05</td>\n",
       "      <td>4483428</td>\n",
       "      <td>06/08/2011</td>\n",
       "      <td>L3</td>\n",
       "      <td>04/25/2013</td>\n",
       "      <td>2013-04-26T00:00:00.000</td>\n",
       "      <td>10</td>\n",
       "      <td>MUHLEBACH COURT</td>\n",
       "      <td>04/25/2013</td>\n",
       "      <td></td>\n",
       "      <td>CLOSED</td>\n",
       "      <td>QNS.</td>\n",
       "    </tr>\n",
       "    <tr>\n",
       "      <th>1</th>\n",
       "      <td>1004077</td>\n",
       "      <td>103</td>\n",
       "      <td>23</td>\n",
       "      <td>1347475</td>\n",
       "      <td>04/23/2013</td>\n",
       "      <td>A8</td>\n",
       "      <td>04/25/2013</td>\n",
       "      <td>2013-04-26T00:00:00.000</td>\n",
       "      <td>157</td>\n",
       "      <td>BROOME STREET</td>\n",
       "      <td>04/25/2013</td>\n",
       "      <td></td>\n",
       "      <td>CLOSED</td>\n",
       "      <td>SCFLD</td>\n",
       "    </tr>\n",
       "    <tr>\n",
       "      <th>2</th>\n",
       "      <td>1004077</td>\n",
       "      <td>103</td>\n",
       "      <td>23</td>\n",
       "      <td>1347579</td>\n",
       "      <td>04/25/2013</td>\n",
       "      <td>I1</td>\n",
       "      <td>04/25/2013</td>\n",
       "      <td>2013-04-26T00:00:00.000</td>\n",
       "      <td>157</td>\n",
       "      <td>BROOME STREET</td>\n",
       "      <td>04/25/2013</td>\n",
       "      <td></td>\n",
       "      <td>CLOSED</td>\n",
       "      <td>SCFLD</td>\n",
       "    </tr>\n",
       "    <tr>\n",
       "      <th>3</th>\n",
       "      <td>1004077</td>\n",
       "      <td>103</td>\n",
       "      <td>35</td>\n",
       "      <td>1347578</td>\n",
       "      <td>04/25/2013</td>\n",
       "      <td></td>\n",
       "      <td>NaN</td>\n",
       "      <td>2013-04-26T00:00:00.000</td>\n",
       "      <td>157</td>\n",
       "      <td>BROOME STREET</td>\n",
       "      <td>NaN</td>\n",
       "      <td></td>\n",
       "      <td>ACTIVE</td>\n",
       "      <td>MAN.</td>\n",
       "    </tr>\n",
       "    <tr>\n",
       "      <th>4</th>\n",
       "      <td>1007574</td>\n",
       "      <td>102</td>\n",
       "      <td>05</td>\n",
       "      <td>1347627</td>\n",
       "      <td>04/25/2013</td>\n",
       "      <td></td>\n",
       "      <td>NaN</td>\n",
       "      <td>2013-04-26T00:00:00.000</td>\n",
       "      <td>561</td>\n",
       "      <td>BROADWAY</td>\n",
       "      <td>NaN</td>\n",
       "      <td></td>\n",
       "      <td>ACTIVE</td>\n",
       "      <td>MAN.</td>\n",
       "    </tr>\n",
       "    <tr>\n",
       "      <th>5</th>\n",
       "      <td>1011217</td>\n",
       "      <td>102</td>\n",
       "      <td>05</td>\n",
       "      <td>1340897</td>\n",
       "      <td>01/08/2013</td>\n",
       "      <td>C1</td>\n",
       "      <td>04/25/2013</td>\n",
       "      <td>2013-04-26T00:00:00.000</td>\n",
       "      <td>191</td>\n",
       "      <td>WEST 10 STREET</td>\n",
       "      <td>04/23/2013</td>\n",
       "      <td></td>\n",
       "      <td>ACTIVE</td>\n",
       "      <td>MAN.</td>\n",
       "    </tr>\n",
       "    <tr>\n",
       "      <th>6</th>\n",
       "      <td>1012527</td>\n",
       "      <td>104</td>\n",
       "      <td>45</td>\n",
       "      <td>1347635</td>\n",
       "      <td>04/25/2013</td>\n",
       "      <td></td>\n",
       "      <td>NaN</td>\n",
       "      <td>2013-04-26T00:00:00.000</td>\n",
       "      <td>501</td>\n",
       "      <td>10 AVENUE</td>\n",
       "      <td>NaN</td>\n",
       "      <td></td>\n",
       "      <td>ACTIVE</td>\n",
       "      <td>MAN.</td>\n",
       "    </tr>\n",
       "    <tr>\n",
       "      <th>7</th>\n",
       "      <td>1014658</td>\n",
       "      <td>104</td>\n",
       "      <td>73</td>\n",
       "      <td>1347334</td>\n",
       "      <td>04/22/2013</td>\n",
       "      <td>I2</td>\n",
       "      <td>04/25/2013</td>\n",
       "      <td>2013-04-26T00:00:00.000</td>\n",
       "      <td>599</td>\n",
       "      <td>6 AVENUE</td>\n",
       "      <td>04/24/2013</td>\n",
       "      <td></td>\n",
       "      <td>CLOSED</td>\n",
       "      <td>MAN.</td>\n",
       "    </tr>\n",
       "  </tbody>\n",
       "</table>\n",
       "</div>"
      ],
      "text/plain": [
       "       bin  community_board complaint_category  complaint_number date_entered  \\\n",
       "0  4298330              414                 05           4483428   06/08/2011   \n",
       "1  1004077              103                 23           1347475   04/23/2013   \n",
       "2  1004077              103                 23           1347579   04/25/2013   \n",
       "3  1004077              103                 35           1347578   04/25/2013   \n",
       "4  1007574              102                 05           1347627   04/25/2013   \n",
       "5  1011217              102                 05           1340897   01/08/2013   \n",
       "6  1012527              104                 45           1347635   04/25/2013   \n",
       "7  1014658              104                 73           1347334   04/22/2013   \n",
       "\n",
       "  disposition_code disposition_date               dobrundate  house_number  \\\n",
       "0               L3       04/25/2013  2013-04-26T00:00:00.000  10             \n",
       "1               A8       04/25/2013  2013-04-26T00:00:00.000  157            \n",
       "2               I1       04/25/2013  2013-04-26T00:00:00.000  157            \n",
       "3                               NaN  2013-04-26T00:00:00.000  157            \n",
       "4                               NaN  2013-04-26T00:00:00.000  561            \n",
       "5               C1       04/25/2013  2013-04-26T00:00:00.000  191            \n",
       "6                               NaN  2013-04-26T00:00:00.000  501            \n",
       "7               I2       04/25/2013  2013-04-26T00:00:00.000  599            \n",
       "\n",
       "                       house_street inspection_date special_district  status  \\\n",
       "0  MUHLEBACH COURT                       04/25/2013                   CLOSED   \n",
       "1  BROOME STREET                         04/25/2013                   CLOSED   \n",
       "2  BROOME STREET                         04/25/2013                   CLOSED   \n",
       "3  BROOME STREET                                NaN                   ACTIVE   \n",
       "4  BROADWAY                                     NaN                   ACTIVE   \n",
       "5  WEST 10 STREET                        04/23/2013                   ACTIVE   \n",
       "6  10 AVENUE                                    NaN                   ACTIVE   \n",
       "7  6 AVENUE                              04/24/2013                   CLOSED   \n",
       "\n",
       "    unit  \n",
       "0   QNS.  \n",
       "1  SCFLD  \n",
       "2  SCFLD  \n",
       "3   MAN.  \n",
       "4   MAN.  \n",
       "5   MAN.  \n",
       "6   MAN.  \n",
       "7   MAN.  "
      ]
     },
     "execution_count": 16,
     "metadata": {},
     "output_type": "execute_result"
    }
   ],
   "source": [
    "#Displaying the first 8 rows of the dataframe\n",
    "df.head(8)"
   ]
  },
  {
   "cell_type": "code",
   "execution_count": 17,
   "metadata": {},
   "outputs": [],
   "source": [
    "#Creatinf a new dataframe dob_3c with three columns only\n",
    "dob_3c=df[['date_entered', 'complaint_number', 'bin']]"
   ]
  },
  {
   "cell_type": "code",
   "execution_count": 18,
   "metadata": {},
   "outputs": [
    {
     "name": "stderr",
     "output_type": "stream",
     "text": [
      "/usr/local/Anaconda3-5.0.0-Linux-x86_64/envs/PUI2016_Python3/lib/python3.5/site-packages/pandas/core/frame.py:2754: SettingWithCopyWarning: \n",
      "A value is trying to be set on a copy of a slice from a DataFrame\n",
      "\n",
      "See the caveats in the documentation: http://pandas.pydata.org/pandas-docs/stable/indexing.html#indexing-view-versus-copy\n",
      "  **kwargs)\n"
     ]
    }
   ],
   "source": [
    "#Renaming columns to match with the csv file\n",
    "dob_3c.rename(columns = {'date_entered':'Date Entered', 'complaint_number':'Complaint Number', 'bin':'BIN'}, inplace=True)"
   ]
  },
  {
   "cell_type": "code",
   "execution_count": 19,
   "metadata": {},
   "outputs": [
    {
     "data": {
      "text/html": [
       "<div>\n",
       "<table border=\"1\" class=\"dataframe\">\n",
       "  <thead>\n",
       "    <tr style=\"text-align: right;\">\n",
       "      <th></th>\n",
       "      <th>Date Entered</th>\n",
       "      <th>Complaint Number</th>\n",
       "      <th>BIN</th>\n",
       "    </tr>\n",
       "  </thead>\n",
       "  <tbody>\n",
       "    <tr>\n",
       "      <th>0</th>\n",
       "      <td>06/08/2011</td>\n",
       "      <td>4483428</td>\n",
       "      <td>4298330</td>\n",
       "    </tr>\n",
       "    <tr>\n",
       "      <th>1</th>\n",
       "      <td>04/23/2013</td>\n",
       "      <td>1347475</td>\n",
       "      <td>1004077</td>\n",
       "    </tr>\n",
       "    <tr>\n",
       "      <th>2</th>\n",
       "      <td>04/25/2013</td>\n",
       "      <td>1347579</td>\n",
       "      <td>1004077</td>\n",
       "    </tr>\n",
       "    <tr>\n",
       "      <th>3</th>\n",
       "      <td>04/25/2013</td>\n",
       "      <td>1347578</td>\n",
       "      <td>1004077</td>\n",
       "    </tr>\n",
       "    <tr>\n",
       "      <th>4</th>\n",
       "      <td>04/25/2013</td>\n",
       "      <td>1347627</td>\n",
       "      <td>1007574</td>\n",
       "    </tr>\n",
       "  </tbody>\n",
       "</table>\n",
       "</div>"
      ],
      "text/plain": [
       "  Date Entered  Complaint Number      BIN\n",
       "0   06/08/2011           4483428  4298330\n",
       "1   04/23/2013           1347475  1004077\n",
       "2   04/25/2013           1347579  1004077\n",
       "3   04/25/2013           1347578  1004077\n",
       "4   04/25/2013           1347627  1007574"
      ]
     },
     "execution_count": 19,
     "metadata": {},
     "output_type": "execute_result"
    }
   ],
   "source": [
    "#Displaying the head of 'dob_3c\"\n",
    "dob_3c.head()"
   ]
  },
  {
   "cell_type": "code",
   "execution_count": 20,
   "metadata": {},
   "outputs": [
    {
     "data": {
      "text/plain": [
       "Text(0,0.5,'Number')"
      ]
     },
     "execution_count": 20,
     "metadata": {},
     "output_type": "execute_result"
    },
    {
     "data": {
      "image/png": "[encoded data removed]",
      "text/plain": [
       "<matplotlib.figure.Figure at 0x7f5bec6d3860>"
      ]
     },
     "metadata": {},
     "output_type": "display_data"
    }
   ],
   "source": [
    "#Plotting\n",
    "grf=dob_3c.plot(x='Date Entered', y='BIN', rot='45', title='Fig.3 Experimenting with plots-2');\n",
    "grf.set_ylabel('Number')"
   ]
  },
  {
   "cell_type": "markdown",
   "metadata": {},
   "source": [
    "Figure 3: Showing the Building Identification Number (BIN) as a function of time. There is no WHY and Take Home sicne we are not doing any analysis."
   ]
  },
  {
   "cell_type": "code",
   "execution_count": 21,
   "metadata": {},
   "outputs": [
    {
     "data": {
      "text/plain": [
       "Text(0,0.5,'Number')"
      ]
     },
     "execution_count": 21,
     "metadata": {},
     "output_type": "execute_result"
    },
    {
     "data": {
      "image/png": "[encoded data removed]",
      "text/plain": [
       "<matplotlib.figure.Figure at 0x7f5bf6ababa8>"
      ]
     },
     "metadata": {},
     "output_type": "display_data"
    }
   ],
   "source": [
    "#Plotting\n",
    "grf=dob_3c.plot(x='Date Entered', y='Complaint Number', rot='45', title='Fig. Experimenting with plots-4');\n",
    "grf.set_ylabel('Number')"
   ]
  },
  {
   "cell_type": "markdown",
   "metadata": {},
   "source": [
    "Figure 4: Showing the Complaint Number as a function of time. There is no WHY and Take Home sicne we are not doing any analysis."
   ]
  },
  {
   "cell_type": "code",
   "execution_count": null,
   "metadata": {},
   "outputs": [],
   "source": []
  }
 ],
 "metadata": {
  "kernelspec": {
   "display_name": "PUI2016_Python3",
   "language": "python",
   "name": "pui2016_python3"
  },
  "language_info": {
   "codemirror_mode": {
    "name": "ipython",
    "version": 3
   },
   "file_extension": ".py",
   "mimetype": "text/x-python",
   "name": "python",
   "nbconvert_exporter": "python",
   "pygments_lexer": "ipython3",
   "version": "3.5.4"
  }
 },
 "nbformat": 4,
 "nbformat_minor": 2
}
